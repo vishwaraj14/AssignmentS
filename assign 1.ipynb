{
 "cells": [
  {
   "cell_type": "markdown",
   "id": "140d7b9c-7561-4baa-81bd-46ae869fbea9",
   "metadata": {},
   "source": [
    "ques 1  Guido van Rossum"
   ]
  },
  {
   "cell_type": "markdown",
   "id": "fbb0e7fd-c01e-4762-a306-458974b8d998",
   "metadata": {},
   "source": [
    "ques 2   Python is an interpreted programming language, supporting object-orientedand \n",
    "functional programming."
   ]
  },
  {
   "cell_type": "markdown",
   "id": "db764080-6f94-4c50-aa05-dee7d08a91cd",
   "metadata": {},
   "source": [
    "ques 3  yes python is case sensitive when dealing with indentifier\n",
    "\n",
    "Q4 correct extension of python = .py\n",
    "\n",
    "Q5 python code is interpretd\n",
    "\n",
    "Q6 Indentation is used to define a block of code in python\n",
    " \n",
    "Q7 Hash character(#)\n",
    "\n",
    "Q8 function sys.versionRead \n",
    "\n",
    "Q9 Python Lambda Functions \n",
    "\n",
    "Q10 preferred installer program a package  management system used in python\n",
    "\n",
    "Q11  reverse() super() upper() sort() type() range() list() len() str() print() int()\n",
    "\n",
    "Q12  an identifier can have a maximum length of 79 characters in Python.\n",
    "\n",
    "Q13 Python is robust language can used many domains like data science web development it is easy to learn and less line of code than other programmning langauge\n",
    "\n",
    "Q14 Memory management in Python involves a private heap containing all Python objects and data structures. It is created by interpreter \n",
    "\n",
    "Q15 In search box search environment variables then click on edit options and copy your path from the drive and add and save changes \n",
    "\n",
    "Q16 yes it is very impt\n",
    "\n"
   ]
  }
 ],
 "metadata": {
  "kernelspec": {
   "display_name": "Python 3 (ipykernel)",
   "language": "python",
   "name": "python3"
  },
  "language_info": {
   "codemirror_mode": {
    "name": "ipython",
    "version": 3
   },
   "file_extension": ".py",
   "mimetype": "text/x-python",
   "name": "python",
   "nbconvert_exporter": "python",
   "pygments_lexer": "ipython3",
   "version": "3.10.8"
  }
 },
 "nbformat": 4,
 "nbformat_minor": 5
}

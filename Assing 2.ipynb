{
 "cells": [
  {
   "cell_type": "code",
   "execution_count": 1,
   "id": "0fc23dbd",
   "metadata": {},
   "outputs": [
    {
     "name": "stdout",
     "output_type": "stream",
     "text": [
      "enter your marks44\n",
      "Grade D\n"
     ]
    }
   ],
   "source": [
    "#ques 1\n",
    "marks =int(input(\"enter your marks\"))\n",
    "if marks >90 :\n",
    "    print(\"Grade A\")\n",
    "elif marks >80 and marks<=90 :\n",
    "    print(\"Grade B\")\n",
    "elif marks >=60 and marks<=80:\n",
    "    print(\"Grade C\")\n",
    "else:\n",
    "    print(\"Grade D\")\n",
    "    "
   ]
  },
  {
   "cell_type": "code",
   "execution_count": 2,
   "id": "de420fe5",
   "metadata": {},
   "outputs": [
    {
     "name": "stdout",
     "output_type": "stream",
     "text": [
      "enter the price44\n",
      "tax 5%\n"
     ]
    }
   ],
   "source": [
    "#QUES2\n",
    "costprice = int(input(\"enter the price\"))\n",
    "if costprice >100000:\n",
    "    print(\"tax 15%\")\n",
    "elif costprice >50000 and costprice <=100000:\n",
    "    print(\"tax 10%\")\n",
    "else:\n",
    "    print(\"tax 5%\")"
   ]
  },
  {
   "cell_type": "code",
   "execution_count": 4,
   "id": "d922d0c5",
   "metadata": {},
   "outputs": [
    {
     "name": "stdout",
     "output_type": "stream",
     "text": [
      "enter your city: Agra\n",
      "Taj Mahal\n"
     ]
    }
   ],
   "source": [
    "#qUES3\n",
    "city = (input(\"enter your city: \"))\n",
    "if city ==\"Delhi\":\n",
    "    print(\"Red fort\")\n",
    "elif city == \"Agra\":\n",
    "    print(\"Taj Mahal\")\n",
    "elif city== \"Jaipur\" :\n",
    "    print(\"Jal Mahal\")"
   ]
  },
  {
   "cell_type": "code",
   "execution_count": 5,
   "id": "48ae540b",
   "metadata": {},
   "outputs": [
    {
     "name": "stdout",
     "output_type": "stream",
     "text": [
      "Enter the number180\n",
      "3\n"
     ]
    }
   ],
   "source": [
    "#ques4\n",
    "num = int(input(\"Enter the number\"))\n",
    "count =0\n",
    "while num > 10:\n",
    "    num = num/3\n",
    "    count =count+1\n",
    "print(count)      "
   ]
  },
  {
   "cell_type": "markdown",
   "id": "1cc06b50",
   "metadata": {},
   "source": [
    "#QUES5\n",
    "when we don't how many time we need to execute a condtion we use while loop\n",
    "WE use while loop untill condition becomes false and after that we exit from loop"
   ]
  },
  {
   "cell_type": "code",
   "execution_count": 19,
   "id": "632c047c",
   "metadata": {},
   "outputs": [
    {
     "name": "stdout",
     "output_type": "stream",
     "text": [
      "1\n",
      "2\n",
      "3\n",
      "4\n",
      "5\n",
      "6\n",
      "7\n",
      "8\n",
      "9\n",
      "10\n"
     ]
    }
   ],
   "source": [
    "#example\n",
    "i =0\n",
    "while i <10:\n",
    "    i +=1\n",
    "    print(i)"
   ]
  },
  {
   "cell_type": "markdown",
   "id": "908cc753",
   "metadata": {},
   "source": [
    "QUES 6"
   ]
  },
  {
   "cell_type": "code",
   "execution_count": 27,
   "id": "0dc55a57",
   "metadata": {},
   "outputs": [
    {
     "name": "stdout",
     "output_type": "stream",
     "text": [
      "\n",
      "1\n",
      "22\n",
      "333\n",
      "4444\n"
     ]
    }
   ],
   "source": [
    "rows =5\n",
    "#outer loop to count rows\n",
    "for i in range(rows):\n",
    "    #nested or inner loop to count the columns\n",
    "    for j in range(i):\n",
    "        print(i,end=\"\")\n",
    "    print(\"\")    \n",
    "    \n",
    "# The count of numbers on each row is equal to the current row number."
   ]
  },
  {
   "cell_type": "code",
   "execution_count": 32,
   "id": "c5825aeb",
   "metadata": {},
   "outputs": [
    {
     "name": "stdout",
     "output_type": "stream",
     "text": [
      "\n",
      "*\n",
      "**\n",
      "***\n",
      "****\n"
     ]
    }
   ],
   "source": [
    "rows = 5\n",
    "for i in range(rows):\n",
    "    for j in range(i):\n",
    "        print(\"*\",end=\"\")\n",
    "    print(\"\")    "
   ]
  },
  {
   "cell_type": "code",
   "execution_count": 35,
   "id": "38d8f358",
   "metadata": {},
   "outputs": [
    {
     "name": "stdout",
     "output_type": "stream",
     "text": [
      "enter sting:python\n",
      "python\n",
      "pytho\n",
      "pyth\n",
      "pyt\n",
      "py\n",
      "p\n",
      "\n"
     ]
    }
   ],
   "source": [
    "str1 = input(\"enter sting:\")\n",
    "#to check len of sting\n",
    "length= len(str1)\n",
    "#outer loop for rows\n",
    "for i in range(length+1):\n",
    "    #inner loop for columns \n",
    "    for j in range(length -i):\n",
    "        print(str1[j],end=\"\")\n",
    "    print()    "
   ]
  },
  {
   "cell_type": "markdown",
   "id": "5f88bbb2",
   "metadata": {},
   "source": [
    "QUES 7"
   ]
  },
  {
   "cell_type": "code",
   "execution_count": 37,
   "id": "a68c5e41",
   "metadata": {},
   "outputs": [
    {
     "name": "stdout",
     "output_type": "stream",
     "text": [
      "10\n",
      "9\n",
      "8\n",
      "7\n",
      "6\n",
      "5\n",
      "4\n",
      "3\n",
      "2\n",
      "1\n"
     ]
    }
   ],
   "source": [
    "i =10\n",
    "while i >= 1:\n",
    "    print(i)\n",
    "    i -=1"
   ]
  },
  {
   "cell_type": "code",
   "execution_count": null,
   "id": "d7d24f61",
   "metadata": {},
   "outputs": [],
   "source": []
  }
 ],
 "metadata": {
  "kernelspec": {
   "display_name": "Python 3 (ipykernel)",
   "language": "python",
   "name": "python3"
  },
  "language_info": {
   "codemirror_mode": {
    "name": "ipython",
    "version": 3
   },
   "file_extension": ".py",
   "mimetype": "text/x-python",
   "name": "python",
   "nbconvert_exporter": "python",
   "pygments_lexer": "ipython3",
   "version": "3.9.12"
  }
 },
 "nbformat": 4,
 "nbformat_minor": 5
}

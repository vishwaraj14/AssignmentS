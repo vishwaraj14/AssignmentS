{
 "cells": [
  {
   "cell_type": "markdown",
   "id": "76eecd9a",
   "metadata": {},
   "source": [
    "1.  Explain with an example each when to use a for loop and a while loop\n",
    "\n",
    "while loop --\n",
    "when we don't how many time we need to execute a condtion we use while loop WE use while loop untill condition becomes false and after that we exit from loop\n",
    "\n",
    "\n",
    "for loop --\n",
    "when we know how many time we need to iterate then we use for loop\n",
    "\n"
   ]
  },
  {
   "cell_type": "code",
   "execution_count": 2,
   "id": "846cb9f1",
   "metadata": {},
   "outputs": [
    {
     "name": "stdout",
     "output_type": "stream",
     "text": [
      "1\n",
      "2\n",
      "3\n",
      "4\n",
      "5\n",
      "6\n",
      "7\n",
      "8\n",
      "9\n",
      "10\n"
     ]
    }
   ],
   "source": [
    "#example\n",
    "i =0\n",
    "while i <10:\n",
    "    i +=1\n",
    "    print(i)\n",
    "    \n",
    "    "
   ]
  },
  {
   "cell_type": "code",
   "execution_count": 4,
   "id": "34aa3065",
   "metadata": {},
   "outputs": [
    {
     "name": "stdout",
     "output_type": "stream",
     "text": [
      "0\n",
      "1\n",
      "2\n",
      "3\n",
      "4\n",
      "5\n",
      "6\n",
      "7\n",
      "8\n",
      "9\n",
      "10\n"
     ]
    }
   ],
   "source": [
    "#example\n",
    "for num in range(11):\n",
    "    print(num)"
   ]
  },
  {
   "cell_type": "markdown",
   "id": "3f251388",
   "metadata": {},
   "source": [
    "Q2.  Write a python program to print the sum and product of the first 10 natural numbers using for \n",
    "and while loop"
   ]
  },
  {
   "cell_type": "code",
   "execution_count": 11,
   "id": "62c8b218",
   "metadata": {},
   "outputs": [
    {
     "name": "stdout",
     "output_type": "stream",
     "text": [
      "sum of 10 natural numbers: 55\n",
      "porduct of 10 natural numbers: 3628800\n"
     ]
    }
   ],
   "source": [
    "\n",
    "sum =0\n",
    "pro=1\n",
    "for i in range(1,11):\n",
    "    sum =sum+i\n",
    "    pro=pro*i\n",
    "    \n",
    "print(\"sum of 10 natural numbers:\",sum)  \n",
    "print(\"porduct of 10 natural numbers:\",pro)"
   ]
  },
  {
   "cell_type": "markdown",
   "id": "54461f56",
   "metadata": {},
   "source": [
    "Q3. Create a python program to compute the electricity bill for a household.\n",
    "The per-unit charges in rupees are as follows: For the first 100 units, the user will be charged Rs. 4.5 per \n",
    "unit, for the next 100 units, the user will be charged Rs. 6 per unit, and for the next 100 units, the user will \n",
    "be charged Rs. 10 per unit, After 300 units and above the user will be charged Rs. 20 per unit.\n",
    "\n",
    "You are required to take the units of electricity consumed in a month from the user as input\n",
    "\n",
    "Your program must pass this test case: when the unit of electricity consumed by the user in a month is \n",
    "310, the total electricity bill should be 2250."
   ]
  },
  {
   "cell_type": "code",
   "execution_count": 30,
   "id": "489ec2c7",
   "metadata": {},
   "outputs": [
    {
     "name": "stdout",
     "output_type": "stream",
     "text": [
      "Enter the unit of electricity consume in month 310\n",
      "Electricity bill:  2250.0\n"
     ]
    }
   ],
   "source": [
    "unit = int(input(\"Enter the unit of electricity consume in month \"))\n",
    "if unit <= 100:\n",
    "    bill =  unit * 4.5\n",
    "elif unit <= 200:\n",
    "    bill = 100 * 4.5 + (unit - 100)* 6\n",
    "elif unit <=300 :\n",
    "    bill = 100 * 4.5 + 100 * 6 + (unit- 200) * 10\n",
    "else:\n",
    "    bill = 100*4.5 + 100 *6 + 100 *10+(unit- 300)*20\n",
    "print(\"Electricity bill: \",bill) "
   ]
  },
  {
   "cell_type": "markdown",
   "id": "43859de1",
   "metadata": {},
   "source": [
    "Q4. Create \n",
    "a list of numbers from 1 to 100. Use for loop and while loop to calculate the cube of each \n",
    "number and if the cube of that number is divisible by 4 or 5 then append that number in a list and print \n",
    "that list.\n"
   ]
  },
  {
   "cell_type": "code",
   "execution_count": 61,
   "id": "8d996dc1",
   "metadata": {},
   "outputs": [
    {
     "name": "stdout",
     "output_type": "stream",
     "text": [
      "[8, 64, 125, 216, 512, 1000, 1728, 2744, 3375, 4096, 5832, 8000, 10648, 13824, 15625, 17576, 21952, 27000, 32768, 39304, 42875, 46656, 54872, 64000, 74088, 85184, 91125, 97336, 110592, 125000, 140608, 157464, 166375, 175616, 195112, 216000, 238328, 262144, 274625, 287496, 314432, 343000, 373248, 405224, 421875, 438976, 474552, 512000, 551368, 592704, 614125, 636056, 681472, 729000, 778688, 830584, 857375, 884736, 941192, 1000000]\n"
     ]
    }
   ],
   "source": [
    "\n",
    "l1=[]\n",
    "for i in range(1,101):\n",
    "    cube = i **3 \n",
    "    if cube %4 ==0 or cube %5 ==0:\n",
    "        l1.append(cube)\n",
    "print(l1)    \n",
    "    \n",
    "   "
   ]
  },
  {
   "cell_type": "code",
   "execution_count": 5,
   "id": "2930948b",
   "metadata": {},
   "outputs": [
    {
     "name": "stdout",
     "output_type": "stream",
     "text": [
      "[8, 64, 125, 216, 512, 1000, 1728, 2744, 3375, 4096, 5832, 8000, 10648, 13824, 15625, 17576, 21952, 27000, 32768, 39304, 42875, 46656, 54872, 64000, 74088, 85184, 91125, 97336, 110592, 125000, 140608, 157464, 166375, 175616, 195112, 216000, 238328, 262144, 274625, 287496, 314432, 343000, 373248, 405224, 421875, 438976, 474552, 512000, 551368, 592704, 614125, 636056, 681472, 729000, 778688, 830584, 857375, 884736, 941192, 1000000]\n"
     ]
    }
   ],
   "source": [
    "\n",
    "l1=[]\n",
    "i=1\n",
    "while i <=100:\n",
    "    cube = i **3 \n",
    "    if cube %4 ==0 or cube %5 ==0:\n",
    "        l1.append(cube)\n",
    "    i+=1    \n",
    "print(l1)   \n",
    "\n",
    "         \n",
    "  "
   ]
  },
  {
   "cell_type": "markdown",
   "id": "886e3420",
   "metadata": {},
   "source": [
    " ques 5\n",
    " Write a program to filter count vowels in the below-given string.\n",
    "string = \"I want to become a data scientist"
   ]
  },
  {
   "cell_type": "code",
   "execution_count": 24,
   "id": "5cc6cd09",
   "metadata": {},
   "outputs": [
    {
     "name": "stdout",
     "output_type": "stream",
     "text": [
      "12\n"
     ]
    }
   ],
   "source": [
    "str = \"I want to become a data scientist\"\n",
    "vowels =\"AEIOUaeiou\"\n",
    "i=0   #count\n",
    "for char in str :\n",
    "    if char in vowels:\n",
    "        i=i+1\n",
    "print(i)\n",
    "\n",
    "    "
   ]
  },
  {
   "cell_type": "code",
   "execution_count": null,
   "id": "5ebb08ee",
   "metadata": {},
   "outputs": [],
   "source": []
  }
 ],
 "metadata": {
  "kernelspec": {
   "display_name": "Python 3 (ipykernel)",
   "language": "python",
   "name": "python3"
  },
  "language_info": {
   "codemirror_mode": {
    "name": "ipython",
    "version": 3
   },
   "file_extension": ".py",
   "mimetype": "text/x-python",
   "name": "python",
   "nbconvert_exporter": "python",
   "pygments_lexer": "ipython3",
   "version": "3.9.12"
  }
 },
 "nbformat": 4,
 "nbformat_minor": 5
}
